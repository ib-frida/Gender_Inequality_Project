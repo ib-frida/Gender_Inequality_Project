{
 "cells": [
  {
   "cell_type": "code",
   "execution_count": 27,
   "metadata": {},
   "outputs": [],
   "source": [
    "# Importar las librerías necesarias\n",
    "import pandas as pd\n",
    "import matplotlib.pyplot as plt\n",
    "import seaborn as sns"
   ]
  },
  {
   "cell_type": "code",
   "execution_count": 28,
   "metadata": {},
   "outputs": [],
   "source": [
    "# Cargar el archivo CSV desde la ruta local\n",
    "file_path = 'Gender Inequality Index.csv' \n",
    "data = pd.read_csv(file_path)"
   ]
  },
  {
   "cell_type": "code",
   "execution_count": 29,
   "metadata": {},
   "outputs": [],
   "source": [
    "# Limpiar y organizar el conjunto de datos\n",
    "# (Ejemplo: eliminar columnas irrelevantes, manejar valores nulos)\n",
    "data = data.dropna()  # Eliminar filas con valores nulos"
   ]
  },
  {
   "cell_type": "code",
   "execution_count": 30,
   "metadata": {},
   "outputs": [
    {
     "name": "stdout",
     "output_type": "stream",
     "text": [
      "   ISO3               Country Continent           Hemisphere  \\\n",
      "1   AGO                Angola    Africa  Southern Hemisphere   \n",
      "4   ARE  United Arab Emirates      Asia  Northern Hemisphere   \n",
      "5   ARG             Argentina   America  Southern Hemisphere   \n",
      "6   ARM               Armenia      Asia  Northern Hemisphere   \n",
      "10  AZE            Azerbaijan      Asia  Northern Hemisphere   \n",
      "\n",
      "   Human Development Groups UNDP Developing Regions  HDI Rank (2021)  \\\n",
      "1                    Medium                     SSA            148.0   \n",
      "4                 Very High                      AS             26.0   \n",
      "5                 Very High                     LAC             47.0   \n",
      "6                      High                     ECA             85.0   \n",
      "10                     High                     ECA             91.0   \n",
      "\n",
      "    GII Rank (2021)  Gender Inequality Index (1990)  \\\n",
      "1             136.0                           0.725   \n",
      "4              11.0                           0.659   \n",
      "5              69.0                           0.442   \n",
      "6              53.0                           0.470   \n",
      "10             70.0                           0.334   \n",
      "\n",
      "    Gender Inequality Index (1991)  ...  Gender Inequality Index (2012)  \\\n",
      "1                            0.723  ...                           0.545   \n",
      "4                            0.647  ...                           0.171   \n",
      "5                            0.439  ...                           0.360   \n",
      "6                            0.468  ...                           0.327   \n",
      "10                           0.343  ...                           0.340   \n",
      "\n",
      "    Gender Inequality Index (2013)  Gender Inequality Index (2014)  \\\n",
      "1                            0.540                           0.531   \n",
      "4                            0.161                           0.151   \n",
      "5                            0.356                           0.351   \n",
      "6                            0.305                           0.313   \n",
      "10                           0.342                           0.345   \n",
      "\n",
      "    Gender Inequality Index (2015)  Gender Inequality Index (2016)  \\\n",
      "1                            0.530                           0.529   \n",
      "4                            0.126                           0.118   \n",
      "5                            0.345                           0.338   \n",
      "6                            0.309                           0.306   \n",
      "10                           0.335                           0.328   \n",
      "\n",
      "    Gender Inequality Index (2017)  Gender Inequality Index (2018)  \\\n",
      "1                            0.538                           0.537   \n",
      "4                            0.112                           0.103   \n",
      "5                            0.328                           0.315   \n",
      "6                            0.261                           0.260   \n",
      "10                           0.311                           0.307   \n",
      "\n",
      "    Gender Inequality Index (2019)  Gender Inequality Index (2020)  \\\n",
      "1                            0.537                           0.537   \n",
      "4                            0.056                           0.050   \n",
      "5                            0.306                           0.293   \n",
      "6                            0.239                           0.239   \n",
      "10                           0.314                           0.301   \n",
      "\n",
      "    Gender Inequality Index (2021)  \n",
      "1                            0.537  \n",
      "4                            0.049  \n",
      "5                            0.287  \n",
      "6                            0.216  \n",
      "10                           0.294  \n",
      "\n",
      "[5 rows x 40 columns]\n"
     ]
    }
   ],
   "source": [
    "# Mostrar las primeras filas del dataset\n",
    "print(data.head())"
   ]
  },
  {
   "cell_type": "code",
   "execution_count": 31,
   "metadata": {},
   "outputs": [
    {
     "name": "stdout",
     "output_type": "stream",
     "text": [
      "<class 'pandas.core.frame.DataFrame'>\n",
      "Index: 89 entries, 1 to 194\n",
      "Data columns (total 40 columns):\n",
      " #   Column                          Non-Null Count  Dtype  \n",
      "---  ------                          --------------  -----  \n",
      " 0   ISO3                            89 non-null     object \n",
      " 1   Country                         89 non-null     object \n",
      " 2   Continent                       89 non-null     object \n",
      " 3   Hemisphere                      89 non-null     object \n",
      " 4   Human Development Groups        89 non-null     object \n",
      " 5   UNDP Developing Regions         89 non-null     object \n",
      " 6   HDI Rank (2021)                 89 non-null     float64\n",
      " 7   GII Rank (2021)                 89 non-null     float64\n",
      " 8   Gender Inequality Index (1990)  89 non-null     float64\n",
      " 9   Gender Inequality Index (1991)  89 non-null     float64\n",
      " 10  Gender Inequality Index (1992)  89 non-null     float64\n",
      " 11  Gender Inequality Index (1993)  89 non-null     float64\n",
      " 12  Gender Inequality Index (1994)  89 non-null     float64\n",
      " 13  Gender Inequality Index (1995)  89 non-null     float64\n",
      " 14  Gender Inequality Index (1996)  89 non-null     float64\n",
      " 15  Gender Inequality Index (1997)  89 non-null     float64\n",
      " 16  Gender Inequality Index (1998)  89 non-null     float64\n",
      " 17  Gender Inequality Index (1999)  89 non-null     float64\n",
      " 18  Gender Inequality Index (2000)  89 non-null     float64\n",
      " 19  Gender Inequality Index (2001)  89 non-null     float64\n",
      " 20  Gender Inequality Index (2002)  89 non-null     float64\n",
      " 21  Gender Inequality Index (2003)  89 non-null     float64\n",
      " 22  Gender Inequality Index (2004)  89 non-null     float64\n",
      " 23  Gender Inequality Index (2005)  89 non-null     float64\n",
      " 24  Gender Inequality Index (2006)  89 non-null     float64\n",
      " 25  Gender Inequality Index (2007)  89 non-null     float64\n",
      " 26  Gender Inequality Index (2008)  89 non-null     float64\n",
      " 27  Gender Inequality Index (2009)  89 non-null     float64\n",
      " 28  Gender Inequality Index (2010)  89 non-null     float64\n",
      " 29  Gender Inequality Index (2011)  89 non-null     float64\n",
      " 30  Gender Inequality Index (2012)  89 non-null     float64\n",
      " 31  Gender Inequality Index (2013)  89 non-null     float64\n",
      " 32  Gender Inequality Index (2014)  89 non-null     float64\n",
      " 33  Gender Inequality Index (2015)  89 non-null     float64\n",
      " 34  Gender Inequality Index (2016)  89 non-null     float64\n",
      " 35  Gender Inequality Index (2017)  89 non-null     float64\n",
      " 36  Gender Inequality Index (2018)  89 non-null     float64\n",
      " 37  Gender Inequality Index (2019)  89 non-null     float64\n",
      " 38  Gender Inequality Index (2020)  89 non-null     float64\n",
      " 39  Gender Inequality Index (2021)  89 non-null     float64\n",
      "dtypes: float64(34), object(6)\n",
      "memory usage: 28.5+ KB\n",
      "None\n"
     ]
    }
   ],
   "source": [
    "# Mostrar información básica sobre los datos\n",
    "print(data.info())"
   ]
  }
 ],
 "metadata": {
  "kernelspec": {
   "display_name": "base",
   "language": "python",
   "name": "python3"
  },
  "language_info": {
   "codemirror_mode": {
    "name": "ipython",
    "version": 3
   },
   "file_extension": ".py",
   "mimetype": "text/x-python",
   "name": "python",
   "nbconvert_exporter": "python",
   "pygments_lexer": "ipython3",
   "version": "3.12.4"
  }
 },
 "nbformat": 4,
 "nbformat_minor": 2
}
