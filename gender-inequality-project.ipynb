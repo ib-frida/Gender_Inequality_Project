{
 "cells": [
  {
   "cell_type": "code",
   "execution_count": 1,
   "metadata": {},
   "outputs": [],
   "source": [
    "# Importar las librerías necesarias\n",
    "import pandas as pd\n",
    "import matplotlib.pyplot as plt\n",
    "import seaborn as sns\n",
    "import numpy as np\n",
    "import plotly.express as px\n",
    "import requests\n",
    "from io import StringIO\n",
    "\n",
    "# Configuración de estilo para los gráficos\n",
    "sns.set(style=\"whitegrid\")"
   ]
  },
  {
   "cell_type": "code",
   "execution_count": 2,
   "metadata": {},
   "outputs": [
    {
     "name": "stdout",
     "output_type": "stream",
     "text": [
      "  ISO3               Country Continent           Hemisphere  \\\n",
      "0  AFG           Afghanistan      Asia  Northern Hemisphere   \n",
      "1  AGO                Angola    Africa  Southern Hemisphere   \n",
      "2  ALB               Albania    Europe  Northern Hemisphere   \n",
      "3  AND               Andorra    Europe  Northern Hemisphere   \n",
      "4  ARE  United Arab Emirates      Asia  Northern Hemisphere   \n",
      "\n",
      "  Human Development Groups UNDP Developing Regions  HDI Rank (2021)  \\\n",
      "0                      Low                      SA            180.0   \n",
      "1                   Medium                     SSA            148.0   \n",
      "2                     High                     ECA             67.0   \n",
      "3                Very High                     NaN             40.0   \n",
      "4                Very High                      AS             26.0   \n",
      "\n",
      "   GII Rank (2021)  Gender Inequality Index (1990)  \\\n",
      "0            167.0                             NaN   \n",
      "1            136.0                           0.725   \n",
      "2             39.0                             NaN   \n",
      "3              NaN                             NaN   \n",
      "4             11.0                           0.659   \n",
      "\n",
      "   Gender Inequality Index (1991)  ...  Gender Inequality Index (2012)  \\\n",
      "0                             NaN  ...                           0.738   \n",
      "1                           0.723  ...                           0.545   \n",
      "2                             NaN  ...                           0.235   \n",
      "3                             NaN  ...                             NaN   \n",
      "4                           0.647  ...                           0.171   \n",
      "\n",
      "   Gender Inequality Index (2013)  Gender Inequality Index (2014)  \\\n",
      "0                           0.728                           0.718   \n",
      "1                           0.540                           0.531   \n",
      "2                           0.225                           0.219   \n",
      "3                             NaN                             NaN   \n",
      "4                           0.161                           0.151   \n",
      "\n",
      "   Gender Inequality Index (2015)  Gender Inequality Index (2016)  \\\n",
      "0                           0.706                           0.692   \n",
      "1                           0.530                           0.529   \n",
      "2                           0.204                           0.191   \n",
      "3                             NaN                             NaN   \n",
      "4                           0.126                           0.118   \n",
      "\n",
      "   Gender Inequality Index (2017)  Gender Inequality Index (2018)  \\\n",
      "0                           0.678                           0.671   \n",
      "1                           0.538                           0.537   \n",
      "2                           0.170                           0.164   \n",
      "3                             NaN                             NaN   \n",
      "4                           0.112                           0.103   \n",
      "\n",
      "   Gender Inequality Index (2019)  Gender Inequality Index (2020)  \\\n",
      "0                           0.665                           0.674   \n",
      "1                           0.537                           0.537   \n",
      "2                           0.156                           0.156   \n",
      "3                             NaN                             NaN   \n",
      "4                           0.056                           0.050   \n",
      "\n",
      "   Gender Inequality Index (2021)  \n",
      "0                           0.678  \n",
      "1                           0.537  \n",
      "2                           0.144  \n",
      "3                             NaN  \n",
      "4                           0.049  \n",
      "\n",
      "[5 rows x 40 columns]\n"
     ]
    }
   ],
   "source": [
    "# URL cruda del archivo CSV en GitHub\n",
    "url = 'https://raw.githubusercontent.com/ib-frida/Gender_Inequality_Project/main/Gender%20Inequality%20Index.csv'\n",
    "\n",
    "# Descargar el archivo CSV\n",
    "response = requests.get(url)\n",
    "if response.status_code != 200:\n",
    "    raise FileNotFoundError(f\"No se pudo descargar el archivo desde la URL: {url}\")\n",
    "\n",
    "# Leer el contenido del archivo CSV en un DataFrame de pandas\n",
    "data = pd.read_csv(StringIO(response.text))\n",
    "\n",
    "# Imprimir las primeras filas del DataFrame para verificar\n",
    "print(data.head())"
   ]
  },
  {
   "cell_type": "code",
   "execution_count": 3,
   "metadata": {},
   "outputs": [
    {
     "name": "stdout",
     "output_type": "stream",
     "text": [
      "  ISO3               Country Continent           Hemisphere  \\\n",
      "0  AFG           Afghanistan      Asia  Northern Hemisphere   \n",
      "1  AGO                Angola    Africa  Southern Hemisphere   \n",
      "2  ALB               Albania    Europe  Northern Hemisphere   \n",
      "3  AND               Andorra    Europe  Northern Hemisphere   \n",
      "4  ARE  United Arab Emirates      Asia  Northern Hemisphere   \n",
      "\n",
      "  Human Development Groups UNDP Developing Regions  HDI Rank (2021)  \\\n",
      "0                      Low                      SA            180.0   \n",
      "1                   Medium                     SSA            148.0   \n",
      "2                     High                     ECA             67.0   \n",
      "3                Very High                     NaN             40.0   \n",
      "4                Very High                      AS             26.0   \n",
      "\n",
      "   GII Rank (2021)  Gender Inequality Index (1990)  \\\n",
      "0            167.0                             NaN   \n",
      "1            136.0                           0.725   \n",
      "2             39.0                             NaN   \n",
      "3              NaN                             NaN   \n",
      "4             11.0                           0.659   \n",
      "\n",
      "   Gender Inequality Index (1991)  ...  Gender Inequality Index (2012)  \\\n",
      "0                             NaN  ...                           0.738   \n",
      "1                           0.723  ...                           0.545   \n",
      "2                             NaN  ...                           0.235   \n",
      "3                             NaN  ...                             NaN   \n",
      "4                           0.647  ...                           0.171   \n",
      "\n",
      "   Gender Inequality Index (2013)  Gender Inequality Index (2014)  \\\n",
      "0                           0.728                           0.718   \n",
      "1                           0.540                           0.531   \n",
      "2                           0.225                           0.219   \n",
      "3                             NaN                             NaN   \n",
      "4                           0.161                           0.151   \n",
      "\n",
      "   Gender Inequality Index (2015)  Gender Inequality Index (2016)  \\\n",
      "0                           0.706                           0.692   \n",
      "1                           0.530                           0.529   \n",
      "2                           0.204                           0.191   \n",
      "3                             NaN                             NaN   \n",
      "4                           0.126                           0.118   \n",
      "\n",
      "   Gender Inequality Index (2017)  Gender Inequality Index (2018)  \\\n",
      "0                           0.678                           0.671   \n",
      "1                           0.538                           0.537   \n",
      "2                           0.170                           0.164   \n",
      "3                             NaN                             NaN   \n",
      "4                           0.112                           0.103   \n",
      "\n",
      "   Gender Inequality Index (2019)  Gender Inequality Index (2020)  \\\n",
      "0                           0.665                           0.674   \n",
      "1                           0.537                           0.537   \n",
      "2                           0.156                           0.156   \n",
      "3                             NaN                             NaN   \n",
      "4                           0.056                           0.050   \n",
      "\n",
      "   Gender Inequality Index (2021)  \n",
      "0                           0.678  \n",
      "1                           0.537  \n",
      "2                           0.144  \n",
      "3                             NaN  \n",
      "4                           0.049  \n",
      "\n",
      "[5 rows x 40 columns]\n"
     ]
    }
   ],
   "source": [
    "# Mostrar las primeras filas del dataset\n",
    "print(data.head())"
   ]
  },
  {
   "cell_type": "code",
   "execution_count": 4,
   "metadata": {},
   "outputs": [
    {
     "name": "stdout",
     "output_type": "stream",
     "text": [
      "<class 'pandas.core.frame.DataFrame'>\n",
      "RangeIndex: 195 entries, 0 to 194\n",
      "Data columns (total 40 columns):\n",
      " #   Column                          Non-Null Count  Dtype  \n",
      "---  ------                          --------------  -----  \n",
      " 0   ISO3                            195 non-null    object \n",
      " 1   Country                         195 non-null    object \n",
      " 2   Continent                       195 non-null    object \n",
      " 3   Hemisphere                      195 non-null    object \n",
      " 4   Human Development Groups        191 non-null    object \n",
      " 5   UNDP Developing Regions         151 non-null    object \n",
      " 6   HDI Rank (2021)                 191 non-null    float64\n",
      " 7   GII Rank (2021)                 170 non-null    float64\n",
      " 8   Gender Inequality Index (1990)  128 non-null    float64\n",
      " 9   Gender Inequality Index (1991)  128 non-null    float64\n",
      " 10  Gender Inequality Index (1992)  128 non-null    float64\n",
      " 11  Gender Inequality Index (1993)  128 non-null    float64\n",
      " 12  Gender Inequality Index (1994)  128 non-null    float64\n",
      " 13  Gender Inequality Index (1995)  130 non-null    float64\n",
      " 14  Gender Inequality Index (1996)  130 non-null    float64\n",
      " 15  Gender Inequality Index (1997)  130 non-null    float64\n",
      " 16  Gender Inequality Index (1998)  136 non-null    float64\n",
      " 17  Gender Inequality Index (1999)  141 non-null    float64\n",
      " 18  Gender Inequality Index (2000)  144 non-null    float64\n",
      " 19  Gender Inequality Index (2001)  149 non-null    float64\n",
      " 20  Gender Inequality Index (2002)  150 non-null    float64\n",
      " 21  Gender Inequality Index (2003)  153 non-null    float64\n",
      " 22  Gender Inequality Index (2004)  156 non-null    float64\n",
      " 23  Gender Inequality Index (2005)  159 non-null    float64\n",
      " 24  Gender Inequality Index (2006)  162 non-null    float64\n",
      " 25  Gender Inequality Index (2007)  163 non-null    float64\n",
      " 26  Gender Inequality Index (2008)  163 non-null    float64\n",
      " 27  Gender Inequality Index (2009)  163 non-null    float64\n",
      " 28  Gender Inequality Index (2010)  165 non-null    float64\n",
      " 29  Gender Inequality Index (2011)  167 non-null    float64\n",
      " 30  Gender Inequality Index (2012)  167 non-null    float64\n",
      " 31  Gender Inequality Index (2013)  167 non-null    float64\n",
      " 32  Gender Inequality Index (2014)  167 non-null    float64\n",
      " 33  Gender Inequality Index (2015)  168 non-null    float64\n",
      " 34  Gender Inequality Index (2016)  169 non-null    float64\n",
      " 35  Gender Inequality Index (2017)  170 non-null    float64\n",
      " 36  Gender Inequality Index (2018)  170 non-null    float64\n",
      " 37  Gender Inequality Index (2019)  170 non-null    float64\n",
      " 38  Gender Inequality Index (2020)  170 non-null    float64\n",
      " 39  Gender Inequality Index (2021)  170 non-null    float64\n",
      "dtypes: float64(34), object(6)\n",
      "memory usage: 61.1+ KB\n",
      "None\n"
     ]
    }
   ],
   "source": [
    "# Mostrar información básica sobre los datos\n",
    "print(data.info())"
   ]
  },
  {
   "cell_type": "code",
   "execution_count": 5,
   "metadata": {},
   "outputs": [
    {
     "name": "stdout",
     "output_type": "stream",
     "text": [
      "Valores nulos por columna:\n",
      " ISO3                               0\n",
      "Country                            0\n",
      "Continent                          0\n",
      "Hemisphere                         0\n",
      "Human Development Groups           4\n",
      "UNDP Developing Regions           44\n",
      "HDI Rank (2021)                    4\n",
      "GII Rank (2021)                   25\n",
      "Gender Inequality Index (1990)    67\n",
      "Gender Inequality Index (1991)    67\n",
      "Gender Inequality Index (1992)    67\n",
      "Gender Inequality Index (1993)    67\n",
      "Gender Inequality Index (1994)    67\n",
      "Gender Inequality Index (1995)    65\n",
      "Gender Inequality Index (1996)    65\n",
      "Gender Inequality Index (1997)    65\n",
      "Gender Inequality Index (1998)    59\n",
      "Gender Inequality Index (1999)    54\n",
      "Gender Inequality Index (2000)    51\n",
      "Gender Inequality Index (2001)    46\n",
      "Gender Inequality Index (2002)    45\n",
      "Gender Inequality Index (2003)    42\n",
      "Gender Inequality Index (2004)    39\n",
      "Gender Inequality Index (2005)    36\n",
      "Gender Inequality Index (2006)    33\n",
      "Gender Inequality Index (2007)    32\n",
      "Gender Inequality Index (2008)    32\n",
      "Gender Inequality Index (2009)    32\n",
      "Gender Inequality Index (2010)    30\n",
      "Gender Inequality Index (2011)    28\n",
      "Gender Inequality Index (2012)    28\n",
      "Gender Inequality Index (2013)    28\n",
      "Gender Inequality Index (2014)    28\n",
      "Gender Inequality Index (2015)    27\n",
      "Gender Inequality Index (2016)    26\n",
      "Gender Inequality Index (2017)    25\n",
      "Gender Inequality Index (2018)    25\n",
      "Gender Inequality Index (2019)    25\n",
      "Gender Inequality Index (2020)    25\n",
      "Gender Inequality Index (2021)    25\n",
      "dtype: int64\n",
      "<class 'pandas.core.frame.DataFrame'>\n",
      "Index: 89 entries, 1 to 194\n",
      "Data columns (total 40 columns):\n",
      " #   Column                          Non-Null Count  Dtype  \n",
      "---  ------                          --------------  -----  \n",
      " 0   ISO3                            89 non-null     object \n",
      " 1   Country                         89 non-null     object \n",
      " 2   Continent                       89 non-null     object \n",
      " 3   Hemisphere                      89 non-null     object \n",
      " 4   Human Development Groups        89 non-null     object \n",
      " 5   UNDP Developing Regions         89 non-null     object \n",
      " 6   HDI Rank (2021)                 89 non-null     float64\n",
      " 7   GII Rank (2021)                 89 non-null     float64\n",
      " 8   Gender Inequality Index (1990)  89 non-null     float64\n",
      " 9   Gender Inequality Index (1991)  89 non-null     float64\n",
      " 10  Gender Inequality Index (1992)  89 non-null     float64\n",
      " 11  Gender Inequality Index (1993)  89 non-null     float64\n",
      " 12  Gender Inequality Index (1994)  89 non-null     float64\n",
      " 13  Gender Inequality Index (1995)  89 non-null     float64\n",
      " 14  Gender Inequality Index (1996)  89 non-null     float64\n",
      " 15  Gender Inequality Index (1997)  89 non-null     float64\n",
      " 16  Gender Inequality Index (1998)  89 non-null     float64\n",
      " 17  Gender Inequality Index (1999)  89 non-null     float64\n",
      " 18  Gender Inequality Index (2000)  89 non-null     float64\n",
      " 19  Gender Inequality Index (2001)  89 non-null     float64\n",
      " 20  Gender Inequality Index (2002)  89 non-null     float64\n",
      " 21  Gender Inequality Index (2003)  89 non-null     float64\n",
      " 22  Gender Inequality Index (2004)  89 non-null     float64\n",
      " 23  Gender Inequality Index (2005)  89 non-null     float64\n",
      " 24  Gender Inequality Index (2006)  89 non-null     float64\n",
      " 25  Gender Inequality Index (2007)  89 non-null     float64\n",
      " 26  Gender Inequality Index (2008)  89 non-null     float64\n",
      " 27  Gender Inequality Index (2009)  89 non-null     float64\n",
      " 28  Gender Inequality Index (2010)  89 non-null     float64\n",
      " 29  Gender Inequality Index (2011)  89 non-null     float64\n",
      " 30  Gender Inequality Index (2012)  89 non-null     float64\n",
      " 31  Gender Inequality Index (2013)  89 non-null     float64\n",
      " 32  Gender Inequality Index (2014)  89 non-null     float64\n",
      " 33  Gender Inequality Index (2015)  89 non-null     float64\n",
      " 34  Gender Inequality Index (2016)  89 non-null     float64\n",
      " 35  Gender Inequality Index (2017)  89 non-null     float64\n",
      " 36  Gender Inequality Index (2018)  89 non-null     float64\n",
      " 37  Gender Inequality Index (2019)  89 non-null     float64\n",
      " 38  Gender Inequality Index (2020)  89 non-null     float64\n",
      " 39  Gender Inequality Index (2021)  89 non-null     float64\n",
      "dtypes: float64(34), object(6)\n",
      "memory usage: 28.5+ KB\n"
     ]
    }
   ],
   "source": [
    "# Verificar si hay valores nulos\n",
    "print(\"Valores nulos por columna:\\n\", data.isnull().sum())\n",
    "\n",
    "# Eliminar filas con valores nulos\n",
    "data_clean = data.dropna()\n",
    "\n",
    "# Confirmar que no hay valores nulos y que los cambios se han aplicado\n",
    "data_clean.info()"
   ]
  },
  {
   "cell_type": "code",
   "execution_count": 6,
   "metadata": {},
   "outputs": [
    {
     "name": "stdout",
     "output_type": "stream",
     "text": [
      "       HDI Rank (2021)  GII Rank (2021)  Gender Inequality Index (1990)  \\\n",
      "count        89.000000        89.000000                       89.000000   \n",
      "mean        113.651685       104.157303                        0.590663   \n",
      "std          42.389724        36.793928                        0.117960   \n",
      "min          12.000000         7.000000                        0.261000   \n",
      "25%          83.000000        77.000000                        0.505000   \n",
      "50%         115.000000       106.000000                        0.600000   \n",
      "75%         150.000000       135.000000                        0.694000   \n",
      "max         189.000000       169.000000                        0.811000   \n",
      "\n",
      "       Gender Inequality Index (1991)  Gender Inequality Index (1992)  \\\n",
      "count                       89.000000                       89.000000   \n",
      "mean                         0.587854                        0.585315   \n",
      "std                          0.117114                        0.116038   \n",
      "min                          0.244000                        0.240000   \n",
      "25%                          0.502000                        0.497000   \n",
      "50%                          0.595000                        0.597000   \n",
      "75%                          0.691000                        0.681000   \n",
      "max                          0.806000                        0.803000   \n",
      "\n",
      "       Gender Inequality Index (1993)  Gender Inequality Index (1994)  \\\n",
      "count                       89.000000                       89.000000   \n",
      "mean                         0.583270                        0.580135   \n",
      "std                          0.115331                        0.114941   \n",
      "min                          0.238000                        0.232000   \n",
      "25%                          0.493000                        0.488000   \n",
      "50%                          0.592000                        0.593000   \n",
      "75%                          0.673000                        0.671000   \n",
      "max                          0.802000                        0.800000   \n",
      "\n",
      "       Gender Inequality Index (1995)  Gender Inequality Index (1996)  \\\n",
      "count                       89.000000                       89.000000   \n",
      "mean                         0.576438                        0.571899   \n",
      "std                          0.115209                        0.116295   \n",
      "min                          0.240000                        0.237000   \n",
      "25%                          0.485000                        0.477000   \n",
      "50%                          0.588000                        0.583000   \n",
      "75%                          0.671000                        0.662000   \n",
      "max                          0.799000                        0.798000   \n",
      "\n",
      "       Gender Inequality Index (1997)  ...  Gender Inequality Index (2012)  \\\n",
      "count                       89.000000  ...                        89.00000   \n",
      "mean                         0.567247  ...                         0.45973   \n",
      "std                          0.117278  ...                         0.12832   \n",
      "min                          0.242000  ...                         0.07800   \n",
      "25%                          0.468000  ...                         0.37000   \n",
      "50%                          0.579000  ...                         0.47300   \n",
      "75%                          0.656000  ...                         0.56600   \n",
      "max                          0.796000  ...                         0.68600   \n",
      "\n",
      "       Gender Inequality Index (2013)  Gender Inequality Index (2014)  \\\n",
      "count                       89.000000                       89.000000   \n",
      "mean                         0.453169                        0.452910   \n",
      "std                          0.128774                        0.127926   \n",
      "min                          0.070000                        0.061000   \n",
      "25%                          0.362000                        0.364000   \n",
      "50%                          0.460000                        0.461000   \n",
      "75%                          0.556000                        0.555000   \n",
      "max                          0.687000                        0.684000   \n",
      "\n",
      "       Gender Inequality Index (2015)  Gender Inequality Index (2016)  \\\n",
      "count                       89.000000                       89.000000   \n",
      "mean                         0.446719                        0.438315   \n",
      "std                          0.128951                        0.130873   \n",
      "min                          0.057000                        0.048000   \n",
      "25%                          0.349000                        0.342000   \n",
      "50%                          0.451000                        0.440000   \n",
      "75%                          0.554000                        0.543000   \n",
      "max                          0.680000                        0.701000   \n",
      "\n",
      "       Gender Inequality Index (2017)  Gender Inequality Index (2018)  \\\n",
      "count                       89.000000                       89.000000   \n",
      "mean                         0.430888                        0.427753   \n",
      "std                          0.134906                        0.137489   \n",
      "min                          0.048000                        0.049000   \n",
      "25%                          0.336000                        0.325000   \n",
      "50%                          0.436000                        0.435000   \n",
      "75%                          0.538000                        0.537000   \n",
      "max                          0.729000                        0.728000   \n",
      "\n",
      "       Gender Inequality Index (2019)  Gender Inequality Index (2020)  \\\n",
      "count                       89.000000                       89.000000   \n",
      "mean                         0.422551                        0.419820   \n",
      "std                          0.139989                        0.140726   \n",
      "min                          0.051000                        0.040000   \n",
      "25%                          0.324000                        0.324000   \n",
      "50%                          0.432000                        0.433000   \n",
      "75%                          0.534000                        0.535000   \n",
      "max                          0.726000                        0.725000   \n",
      "\n",
      "       Gender Inequality Index (2021)  \n",
      "count                       89.000000  \n",
      "mean                         0.420596  \n",
      "std                          0.142035  \n",
      "min                          0.040000  \n",
      "25%                          0.318000  \n",
      "50%                          0.429000  \n",
      "75%                          0.534000  \n",
      "max                          0.725000  \n",
      "\n",
      "[8 rows x 34 columns]\n"
     ]
    }
   ],
   "source": [
    "# Descripción general de los datos\n",
    "print(data_clean.describe())\n"
   ]
  },
  {
   "cell_type": "code",
   "execution_count": 7,
   "metadata": {},
   "outputs": [
    {
     "data": {
      "text/plain": [
       "Index(['ISO3', 'Country', 'Continent', 'Hemisphere',\n",
       "       'Human Development Groups', 'UNDP Developing Regions',\n",
       "       'HDI Rank (2021)', 'GII Rank (2021)', 'Gender Inequality Index (1990)',\n",
       "       'Gender Inequality Index (1991)', 'Gender Inequality Index (1992)',\n",
       "       'Gender Inequality Index (1993)', 'Gender Inequality Index (1994)',\n",
       "       'Gender Inequality Index (1995)', 'Gender Inequality Index (1996)',\n",
       "       'Gender Inequality Index (1997)', 'Gender Inequality Index (1998)',\n",
       "       'Gender Inequality Index (1999)', 'Gender Inequality Index (2000)',\n",
       "       'Gender Inequality Index (2001)', 'Gender Inequality Index (2002)',\n",
       "       'Gender Inequality Index (2003)', 'Gender Inequality Index (2004)',\n",
       "       'Gender Inequality Index (2005)', 'Gender Inequality Index (2006)',\n",
       "       'Gender Inequality Index (2007)', 'Gender Inequality Index (2008)',\n",
       "       'Gender Inequality Index (2009)', 'Gender Inequality Index (2010)',\n",
       "       'Gender Inequality Index (2011)', 'Gender Inequality Index (2012)',\n",
       "       'Gender Inequality Index (2013)', 'Gender Inequality Index (2014)',\n",
       "       'Gender Inequality Index (2015)', 'Gender Inequality Index (2016)',\n",
       "       'Gender Inequality Index (2017)', 'Gender Inequality Index (2018)',\n",
       "       'Gender Inequality Index (2019)', 'Gender Inequality Index (2020)',\n",
       "       'Gender Inequality Index (2021)'],\n",
       "      dtype='object')"
      ]
     },
     "execution_count": 7,
     "metadata": {},
     "output_type": "execute_result"
    }
   ],
   "source": [
    "# Nombres de los Dataframes para cada uno de los indicadores\n",
    "data_clean.columns"
   ]
  },
  {
   "cell_type": "code",
   "execution_count": 8,
   "metadata": {},
   "outputs": [
    {
     "name": "stdout",
     "output_type": "stream",
     "text": [
      "Nuevos nombres:\n",
      "Index(['iso3', 'country', 'continent', 'hemisphere', 'hdp_groups',\n",
      "       'undp_dev_regions', 'hdi_rank', 'gii_rank', 'gii_1990', 'gii_1991',\n",
      "       'gii_1992', 'gii_1993', 'gii_1994', 'gii_1995', 'gii_1996', 'gii_1997',\n",
      "       'gii_1998', 'gii_1999', 'gii_2000', 'gii_2001', 'gii_2002', 'gii_2003',\n",
      "       'gii_2004', 'gii_2005', 'gii_2006', 'gii_2007', 'gii_2008', 'gii_2009',\n",
      "       'gii_2010', 'gii_2011', 'gii_2012', 'gii_2013', 'gii_2014', 'gii_2015',\n",
      "       'gii_2016', 'gii_2017', 'gii_2018', 'gii_2019', 'gii_2020', 'gii_2021'],\n",
      "      dtype='object')\n"
     ]
    }
   ],
   "source": [
    "# Crear una copia explícita del DataFrame original\n",
    "data_clean = data_clean.copy()\n",
    "\n",
    "# Cambiar el nombre de algunas columnas para trabajar más fácilmente\n",
    "data_clean.rename(columns={\n",
    "    'ISO3': 'iso3',\n",
    "    'Country': 'country',\n",
    "    'Continent': 'continent',\n",
    "    'Hemisphere': 'hemisphere',\n",
    "    'Human Development Groups': 'hdp_groups',\n",
    "    'UNDP Developing Regions': 'undp_dev_regions',\n",
    "    'HDI Rank (2021)': 'hdi_rank',\n",
    "    'GII Rank (2021)': 'gii_rank'\n",
    "}, inplace=True)\n",
    "\n",
    "# Renombrar todas las columnas que contienen \"Gender Inequality Index (1991-2021)\" a \"gii_(year)\"\n",
    "data_clean.columns = [f\"gii_{col.split()[-1][1:-1]}\" if \"Gender Inequality Index\" in col else col for col in data_clean.columns]\n",
    "\n",
    "# Verificar los nuevos nombres de las columnas\n",
    "print(\"Nuevos nombres:\")\n",
    "print(data_clean.columns)"
   ]
  },
  {
   "cell_type": "code",
   "execution_count": 9,
   "metadata": {},
   "outputs": [
    {
     "name": "stdout",
     "output_type": "stream",
     "text": [
      "Columnas después de la eliminación:\n",
      "Index(['country', 'continent', 'hdp_groups', 'undp_dev_regions', 'hdi_rank',\n",
      "       'gii_rank', 'gii_1990', 'gii_1991', 'gii_1992', 'gii_1993', 'gii_1994',\n",
      "       'gii_1995', 'gii_1996', 'gii_1997', 'gii_1998', 'gii_1999', 'gii_2000',\n",
      "       'gii_2001', 'gii_2002', 'gii_2003', 'gii_2004', 'gii_2005', 'gii_2006',\n",
      "       'gii_2007', 'gii_2008', 'gii_2009', 'gii_2010', 'gii_2011', 'gii_2012',\n",
      "       'gii_2013', 'gii_2014', 'gii_2015', 'gii_2016', 'gii_2017', 'gii_2018',\n",
      "       'gii_2019', 'gii_2020', 'gii_2021'],\n",
      "      dtype='object')\n"
     ]
    }
   ],
   "source": [
    "# Eliminar las columnas 'iso3' y 'hemisphere' del DataFrame\n",
    "columns_to_drop = ['iso3', 'hemisphere']\n",
    "data_clean.drop(columns=columns_to_drop, inplace=True)\n",
    "\n",
    "# Verificar que las columnas han sido eliminadas\n",
    "print(\"Columnas después de la eliminación:\")\n",
    "print(data_clean.columns)"
   ]
  },
  {
   "cell_type": "code",
   "execution_count": 10,
   "metadata": {},
   "outputs": [
    {
     "data": {
      "image/png": "[encoded data removed]",
      "text/plain": [
       "<Figure size 1000x600 with 1 Axes>"
      ]
     },
     "metadata": {},
     "output_type": "display_data"
    }
   ],
   "source": [
    "# Crear un gráfico de dispersión para comparar hdi_rank y gii_rank\n",
    "plt.figure(figsize=(10, 6))\n",
    "sns.scatterplot(data=data_clean, x='hdi_rank', y='gii_rank', label='Datos')\n",
    "sns.regplot(data=data_clean, x='hdi_rank', y='gii_rank', scatter=False, color='red', label='Línea de regresión')\n",
    "plt.title('Comparativa de HDI Rank y GII Rank')\n",
    "plt.xlabel('HDI Rank (2021)')\n",
    "plt.ylabel('GII Rank (2021)')\n",
    "plt.legend()\n",
    "plt.show()"
   ]
  },
  {
   "cell_type": "code",
   "execution_count": 11,
   "metadata": {},
   "outputs": [
    {
     "data": {
      "image/png": "[encoded data removed]",
      "text/plain": [
       "<Figure size 1200x600 with 1 Axes>"
      ]
     },
     "metadata": {},
     "output_type": "display_data"
    }
   ],
   "source": [
    "# Calcular la media del Índice de Inequidad de Género por continente\n",
    "continent_stats = data_clean.groupby('continent')['gii_2021'].mean().reset_index()\n",
    "\n",
    "# Crear un gráfico de barras para comparar la inequidad de género por continente\n",
    "plt.figure(figsize=(12, 6))\n",
    "sns.barplot(x='continent', y='gii_2021', data=continent_stats, palette='viridis', hue='continent', dodge=False)\n",
    "plt.title('Media del Índice de Inequidad de Género por Continente')\n",
    "plt.xlabel('Continente')\n",
    "plt.ylabel('Media del Índice de Inequidad de Género')\n",
    "plt.legend([],[], frameon=False)  # Ocultar la leyenda\n",
    "plt.show()"
   ]
  },
  {
   "cell_type": "code",
   "execution_count": 12,
   "metadata": {},
   "outputs": [
    {
     "data": {
      "application/vnd.plotly.v1+json": {
       "config": {
        "plotlyServerURL": "https://plot.ly"
       },
       "data": [
        {
         "coloraxis": "coloraxis",
         "geo": "geo",
         "hovertemplate": "<b>%{hovertext}</b><br><br>country=%{location}<br>gii_rank=%{z}<extra></extra>",
         "hovertext": [
          "Angola",
          "United Arab Emirates",
          "Argentina",
          "Armenia",
          "Azerbaijan",
          "Benin",
          "Bangladesh",
          "Bahamas",
          "Belize",
          "Brazil",
          "Barbados",
          "Botswana",
          "Central African Republic",
          "Chile",
          "Ivory Coast",
          "Cameroon",
          "Colombia",
          "Costa Rica",
          "Cuba",
          "Dominican Republic",
          "Algeria",
          "Ecuador",
          "Egypt",
          "Fiji",
          "Gabon",
          "Ghana",
          "Guinea",
          "Gambia",
          "Guatemala",
          "Indonesia",
          "India",
          "Iran",
          "Iraq",
          "Jamaica",
          "Jordan",
          "Kazakhstan",
          "Kenya",
          "Kyrgyzstan",
          "Cambodia",
          "Kuwait",
          "Saint Lucia",
          "Sri Lanka",
          "Lesotho",
          "Morocco",
          "Moldova",
          "Maldives",
          "Mexico",
          "North Macedonia",
          "Mali",
          "Mongolia",
          "Mozambique",
          "Mauritania",
          "Mauritius",
          "Malawi",
          "Malaysia",
          "Namibia",
          "Niger",
          "Nicaragua",
          "Nepal",
          "Pakistan",
          "Panama",
          "Peru",
          "Philippines",
          "Papua New Guinea",
          "Paraguay",
          "Rwanda",
          "Sudan",
          "Senegal",
          "Singapore",
          "El Salvador",
          "Sao Tome and Principe",
          "Eswatini",
          "Syrian Arab Republic",
          "Togo",
          "Thailand",
          "Tajikistan",
          "Tonga",
          "Trinidad and Tobago",
          "Tunisia",
          "Turkey",
          "Tanzania",
          "Uganda",
          "Ukraine",
          "Uruguay",
          "Venezuela",
          "Viet Nam",
          "South Africa",
          "Zambia",
          "Zimbabwe"
         ],
         "locationmode": "country names",
         "locations": [
          "Angola",
          "United Arab Emirates",
          "Argentina",
          "Armenia",
          "Azerbaijan",
          "Benin",
          "Bangladesh",
          "Bahamas",
          "Belize",
          "Brazil",
          "Barbados",
          "Botswana",
          "Central African Republic",
          "Chile",
          "Ivory Coast",
          "Cameroon",
          "Colombia",
          "Costa Rica",
          "Cuba",
          "Dominican Republic",
          "Algeria",
          "Ecuador",
          "Egypt",
          "Fiji",
          "Gabon",
          "Ghana",
          "Guinea",
          "Gambia",
          "Guatemala",
          "Indonesia",
          "India",
          "Iran",
          "Iraq",
          "Jamaica",
          "Jordan",
          "Kazakhstan",
          "Kenya",
          "Kyrgyzstan",
          "Cambodia",
          "Kuwait",
          "Saint Lucia",
          "Sri Lanka",
          "Lesotho",
          "Morocco",
          "Moldova",
          "Maldives",
          "Mexico",
          "North Macedonia",
          "Mali",
          "Mongolia",
          "Mozambique",
          "Mauritania",
          "Mauritius",
          "Malawi",
          "Malaysia",
          "Namibia",
          "Niger",
          "Nicaragua",
          "Nepal",
          "Pakistan",
          "Panama",
          "Peru",
          "Philippines",
          "Papua New Guinea",
          "Paraguay",
          "Rwanda",
          "Sudan",
          "Senegal",
          "Singapore",
          "El Salvador",
          "Sao Tome and Principe",
          "Eswatini",
          "Syrian Arab Republic",
          "Togo",
          "Thailand",
          "Tajikistan",
          "Tonga",
          "Trinidad and Tobago",
          "Tunisia",
          "Turkey",
          "Tanzania",
          "Uganda",
          "Ukraine",
          "Uruguay",
          "Venezuela",
          "Viet Nam",
          "South Africa",
          "Zambia",
          "Zimbabwe"
         ],
         "name": "",
         "type": "choropleth",
         "z": [
          136,
          11,
          69,
          53,
          70,
          152,
          131,
          78,
          86,
          94,
          64,
          117,
          166,
          47,
          155,
          148,
          102,
          60,
          73,
          106,
          126,
          85,
          109,
          77,
          140,
          130,
          157,
          153,
          121,
          110,
          122,
          115,
          145,
          80,
          118,
          41,
          128,
          87,
          116,
          74,
          91,
          92,
          144,
          104,
          51,
          83,
          75,
          37,
          155,
          76,
          136,
          161,
          82,
          142,
          57,
          111,
          153,
          102,
          113,
          135,
          96,
          90,
          101,
          169,
          111,
          93,
          141,
          131,
          7,
          88,
          124,
          138,
          119,
          149,
          79,
          68,
          160,
          81,
          61,
          65,
          146,
          131,
          49,
          58,
          123,
          71,
          97,
          138,
          134
         ]
        }
       ],
       "layout": {
        "coloraxis": {
         "colorbar": {
          "title": {
           "text": "gii_rank"
          }
         },
         "colorscale": [
          [
           0,
           "#0d0887"
          ],
          [
           0.1111111111111111,
           "#46039f"
          ],
          [
           0.2222222222222222,
           "#7201a8"
          ],
          [
           0.3333333333333333,
           "#9c179e"
          ],
          [
           0.4444444444444444,
           "#bd3786"
          ],
          [
           0.5555555555555556,
           "#d8576b"
          ],
          [
           0.6666666666666666,
           "#ed7953"
          ],
          [
           0.7777777777777778,
           "#fb9f3a"
          ],
          [
           0.8888888888888888,
           "#fdca26"
          ],
          [
           1,
           "#f0f921"
          ]
         ]
        },
        "geo": {
         "center": {},
         "domain": {
          "x": [
           0,
           1
          ],
          "y": [
           0,
           1
          ]
         }
        },
        "legend": {
         "tracegroupgap": 0
        },
        "template": {
         "data": {
          "bar": [
           {
            "error_x": {
             "color": "#2a3f5f"
            },
            "error_y": {
             "color": "#2a3f5f"
            },
            "marker": {
             "line": {
              "color": "#E5ECF6",
              "width": 0.5
             },
             "pattern": {
              "fillmode": "overlay",
              "size": 10,
              "solidity": 0.2
             }
            },
            "type": "bar"
           }
          ],
          "barpolar": [
           {
            "marker": {
             "line": {
              "color": "#E5ECF6",
              "width": 0.5
             },
             "pattern": {
              "fillmode": "overlay",
              "size": 10,
              "solidity": 0.2
             }
            },
            "type": "barpolar"
           }
          ],
          "carpet": [
           {
            "aaxis": {
             "endlinecolor": "#2a3f5f",
             "gridcolor": "white",
             "linecolor": "white",
             "minorgridcolor": "white",
             "startlinecolor": "#2a3f5f"
            },
            "baxis": {
             "endlinecolor": "#2a3f5f",
             "gridcolor": "white",
             "linecolor": "white",
             "minorgridcolor": "white",
             "startlinecolor": "#2a3f5f"
            },
            "type": "carpet"
           }
          ],
          "choropleth": [
           {
            "colorbar": {
             "outlinewidth": 0,
             "ticks": ""
            },
            "type": "choropleth"
           }
          ],
          "contour": [
           {
            "colorbar": {
             "outlinewidth": 0,
             "ticks": ""
            },
            "colorscale": [
             [
              0,
              "#0d0887"
             ],
             [
              0.1111111111111111,
              "#46039f"
             ],
             [
              0.2222222222222222,
              "#7201a8"
             ],
             [
              0.3333333333333333,
              "#9c179e"
             ],
             [
              0.4444444444444444,
              "#bd3786"
             ],
             [
              0.5555555555555556,
              "#d8576b"
             ],
             [
              0.6666666666666666,
              "#ed7953"
             ],
             [
              0.7777777777777778,
              "#fb9f3a"
             ],
             [
              0.8888888888888888,
              "#fdca26"
             ],
             [
              1,
              "#f0f921"
             ]
            ],
            "type": "contour"
           }
          ],
          "contourcarpet": [
           {
            "colorbar": {
             "outlinewidth": 0,
             "ticks": ""
            },
            "type": "contourcarpet"
           }
          ],
          "heatmap": [
           {
            "colorbar": {
             "outlinewidth": 0,
             "ticks": ""
            },
            "colorscale": [
             [
              0,
              "#0d0887"
             ],
             [
              0.1111111111111111,
              "#46039f"
             ],
             [
              0.2222222222222222,
              "#7201a8"
             ],
             [
              0.3333333333333333,
              "#9c179e"
             ],
             [
              0.4444444444444444,
              "#bd3786"
             ],
             [
              0.5555555555555556,
              "#d8576b"
             ],
             [
              0.6666666666666666,
              "#ed7953"
             ],
             [
              0.7777777777777778,
              "#fb9f3a"
             ],
             [
              0.8888888888888888,
              "#fdca26"
             ],
             [
              1,
              "#f0f921"
             ]
            ],
            "type": "heatmap"
           }
          ],
          "heatmapgl": [
           {
            "colorbar": {
             "outlinewidth": 0,
             "ticks": ""
            },
            "colorscale": [
             [
              0,
              "#0d0887"
             ],
             [
              0.1111111111111111,
              "#46039f"
             ],
             [
              0.2222222222222222,
              "#7201a8"
             ],
             [
              0.3333333333333333,
              "#9c179e"
             ],
             [
              0.4444444444444444,
              "#bd3786"
             ],
             [
              0.5555555555555556,
              "#d8576b"
             ],
             [
              0.6666666666666666,
              "#ed7953"
             ],
             [
              0.7777777777777778,
              "#fb9f3a"
             ],
             [
              0.8888888888888888,
              "#fdca26"
             ],
             [
              1,
              "#f0f921"
             ]
            ],
            "type": "heatmapgl"
           }
          ],
          "histogram": [
           {
            "marker": {
             "pattern": {
              "fillmode": "overlay",
              "size": 10,
              "solidity": 0.2
             }
            },
            "type": "histogram"
           }
          ],
          "histogram2d": [
           {
            "colorbar": {
             "outlinewidth": 0,
             "ticks": ""
            },
            "colorscale": [
             [
              0,
              "#0d0887"
             ],
             [
              0.1111111111111111,
              "#46039f"
             ],
             [
              0.2222222222222222,
              "#7201a8"
             ],
             [
              0.3333333333333333,
              "#9c179e"
             ],
             [
              0.4444444444444444,
              "#bd3786"
             ],
             [
              0.5555555555555556,
              "#d8576b"
             ],
             [
              0.6666666666666666,
              "#ed7953"
             ],
             [
              0.7777777777777778,
              "#fb9f3a"
             ],
             [
              0.8888888888888888,
              "#fdca26"
             ],
             [
              1,
              "#f0f921"
             ]
            ],
            "type": "histogram2d"
           }
          ],
          "histogram2dcontour": [
           {
            "colorbar": {
             "outlinewidth": 0,
             "ticks": ""
            },
            "colorscale": [
             [
              0,
              "#0d0887"
             ],
             [
              0.1111111111111111,
              "#46039f"
             ],
             [
              0.2222222222222222,
              "#7201a8"
             ],
             [
              0.3333333333333333,
              "#9c179e"
             ],
             [
              0.4444444444444444,
              "#bd3786"
             ],
             [
              0.5555555555555556,
              "#d8576b"
             ],
             [
              0.6666666666666666,
              "#ed7953"
             ],
             [
              0.7777777777777778,
              "#fb9f3a"
             ],
             [
              0.8888888888888888,
              "#fdca26"
             ],
             [
              1,
              "#f0f921"
             ]
            ],
            "type": "histogram2dcontour"
           }
          ],
          "mesh3d": [
           {
            "colorbar": {
             "outlinewidth": 0,
             "ticks": ""
            },
            "type": "mesh3d"
           }
          ],
          "parcoords": [
           {
            "line": {
             "colorbar": {
              "outlinewidth": 0,
              "ticks": ""
             }
            },
            "type": "parcoords"
           }
          ],
          "pie": [
           {
            "automargin": true,
            "type": "pie"
           }
          ],
          "scatter": [
           {
            "fillpattern": {
             "fillmode": "overlay",
             "size": 10,
             "solidity": 0.2
            },
            "type": "scatter"
           }
          ],
          "scatter3d": [
           {
            "line": {
             "colorbar": {
              "outlinewidth": 0,
              "ticks": ""
             }
            },
            "marker": {
             "colorbar": {
              "outlinewidth": 0,
              "ticks": ""
             }
            },
            "type": "scatter3d"
           }
          ],
          "scattercarpet": [
           {
            "marker": {
             "colorbar": {
              "outlinewidth": 0,
              "ticks": ""
             }
            },
            "type": "scattercarpet"
           }
          ],
          "scattergeo": [
           {
            "marker": {
             "colorbar": {
              "outlinewidth": 0,
              "ticks": ""
             }
            },
            "type": "scattergeo"
           }
          ],
          "scattergl": [
           {
            "marker": {
             "colorbar": {
              "outlinewidth": 0,
              "ticks": ""
             }
            },
            "type": "scattergl"
           }
          ],
          "scattermapbox": [
           {
            "marker": {
             "colorbar": {
              "outlinewidth": 0,
              "ticks": ""
             }
            },
            "type": "scattermapbox"
           }
          ],
          "scatterpolar": [
           {
            "marker": {
             "colorbar": {
              "outlinewidth": 0,
              "ticks": ""
             }
            },
            "type": "scatterpolar"
           }
          ],
          "scatterpolargl": [
           {
            "marker": {
             "colorbar": {
              "outlinewidth": 0,
              "ticks": ""
             }
            },
            "type": "scatterpolargl"
           }
          ],
          "scatterternary": [
           {
            "marker": {
             "colorbar": {
              "outlinewidth": 0,
              "ticks": ""
             }
            },
            "type": "scatterternary"
           }
          ],
          "surface": [
           {
            "colorbar": {
             "outlinewidth": 0,
             "ticks": ""
            },
            "colorscale": [
             [
              0,
              "#0d0887"
             ],
             [
              0.1111111111111111,
              "#46039f"
             ],
             [
              0.2222222222222222,
              "#7201a8"
             ],
             [
              0.3333333333333333,
              "#9c179e"
             ],
             [
              0.4444444444444444,
              "#bd3786"
             ],
             [
              0.5555555555555556,
              "#d8576b"
             ],
             [
              0.6666666666666666,
              "#ed7953"
             ],
             [
              0.7777777777777778,
              "#fb9f3a"
             ],
             [
              0.8888888888888888,
              "#fdca26"
             ],
             [
              1,
              "#f0f921"
             ]
            ],
            "type": "surface"
           }
          ],
          "table": [
           {
            "cells": {
             "fill": {
              "color": "#EBF0F8"
             },
             "line": {
              "color": "white"
             }
            },
            "header": {
             "fill": {
              "color": "#C8D4E3"
             },
             "line": {
              "color": "white"
             }
            },
            "type": "table"
           }
          ]
         },
         "layout": {
          "annotationdefaults": {
           "arrowcolor": "#2a3f5f",
           "arrowhead": 0,
           "arrowwidth": 1
          },
          "autotypenumbers": "strict",
          "coloraxis": {
           "colorbar": {
            "outlinewidth": 0,
            "ticks": ""
           }
          },
          "colorscale": {
           "diverging": [
            [
             0,
             "#8e0152"
            ],
            [
             0.1,
             "#c51b7d"
            ],
            [
             0.2,
             "#de77ae"
            ],
            [
             0.3,
             "#f1b6da"
            ],
            [
             0.4,
             "#fde0ef"
            ],
            [
             0.5,
             "#f7f7f7"
            ],
            [
             0.6,
             "#e6f5d0"
            ],
            [
             0.7,
             "#b8e186"
            ],
            [
             0.8,
             "#7fbc41"
            ],
            [
             0.9,
             "#4d9221"
            ],
            [
             1,
             "#276419"
            ]
           ],
           "sequential": [
            [
             0,
             "#0d0887"
            ],
            [
             0.1111111111111111,
             "#46039f"
            ],
            [
             0.2222222222222222,
             "#7201a8"
            ],
            [
             0.3333333333333333,
             "#9c179e"
            ],
            [
             0.4444444444444444,
             "#bd3786"
            ],
            [
             0.5555555555555556,
             "#d8576b"
            ],
            [
             0.6666666666666666,
             "#ed7953"
            ],
            [
             0.7777777777777778,
             "#fb9f3a"
            ],
            [
             0.8888888888888888,
             "#fdca26"
            ],
            [
             1,
             "#f0f921"
            ]
           ],
           "sequentialminus": [
            [
             0,
             "#0d0887"
            ],
            [
             0.1111111111111111,
             "#46039f"
            ],
            [
             0.2222222222222222,
             "#7201a8"
            ],
            [
             0.3333333333333333,
             "#9c179e"
            ],
            [
             0.4444444444444444,
             "#bd3786"
            ],
            [
             0.5555555555555556,
             "#d8576b"
            ],
            [
             0.6666666666666666,
             "#ed7953"
            ],
            [
             0.7777777777777778,
             "#fb9f3a"
            ],
            [
             0.8888888888888888,
             "#fdca26"
            ],
            [
             1,
             "#f0f921"
            ]
           ]
          },
          "colorway": [
           "#636efa",
           "#EF553B",
           "#00cc96",
           "#ab63fa",
           "#FFA15A",
           "#19d3f3",
           "#FF6692",
           "#B6E880",
           "#FF97FF",
           "#FECB52"
          ],
          "font": {
           "color": "#2a3f5f"
          },
          "geo": {
           "bgcolor": "white",
           "lakecolor": "white",
           "landcolor": "#E5ECF6",
           "showlakes": true,
           "showland": true,
           "subunitcolor": "white"
          },
          "hoverlabel": {
           "align": "left"
          },
          "hovermode": "closest",
          "mapbox": {
           "style": "light"
          },
          "paper_bgcolor": "white",
          "plot_bgcolor": "#E5ECF6",
          "polar": {
           "angularaxis": {
            "gridcolor": "white",
            "linecolor": "white",
            "ticks": ""
           },
           "bgcolor": "#E5ECF6",
           "radialaxis": {
            "gridcolor": "white",
            "linecolor": "white",
            "ticks": ""
           }
          },
          "scene": {
           "xaxis": {
            "backgroundcolor": "#E5ECF6",
            "gridcolor": "white",
            "gridwidth": 2,
            "linecolor": "white",
            "showbackground": true,
            "ticks": "",
            "zerolinecolor": "white"
           },
           "yaxis": {
            "backgroundcolor": "#E5ECF6",
            "gridcolor": "white",
            "gridwidth": 2,
            "linecolor": "white",
            "showbackground": true,
            "ticks": "",
            "zerolinecolor": "white"
           },
           "zaxis": {
            "backgroundcolor": "#E5ECF6",
            "gridcolor": "white",
            "gridwidth": 2,
            "linecolor": "white",
            "showbackground": true,
            "ticks": "",
            "zerolinecolor": "white"
           }
          },
          "shapedefaults": {
           "line": {
            "color": "#2a3f5f"
           }
          },
          "ternary": {
           "aaxis": {
            "gridcolor": "white",
            "linecolor": "white",
            "ticks": ""
           },
           "baxis": {
            "gridcolor": "white",
            "linecolor": "white",
            "ticks": ""
           },
           "bgcolor": "#E5ECF6",
           "caxis": {
            "gridcolor": "white",
            "linecolor": "white",
            "ticks": ""
           }
          },
          "title": {
           "x": 0.05
          },
          "xaxis": {
           "automargin": true,
           "gridcolor": "white",
           "linecolor": "white",
           "ticks": "",
           "title": {
            "standoff": 15
           },
           "zerolinecolor": "white",
           "zerolinewidth": 2
          },
          "yaxis": {
           "automargin": true,
           "gridcolor": "white",
           "linecolor": "white",
           "ticks": "",
           "title": {
            "standoff": 15
           },
           "zerolinecolor": "white",
           "zerolinewidth": 2
          }
         }
        },
        "title": {
         "text": "Mapa de Calor del GII Rank por País"
        }
       }
      }
     },
     "metadata": {},
     "output_type": "display_data"
    }
   ],
   "source": [
    "# Crear un mapa de calor para visualizar el gii_rank en cada país\n",
    "fig = px.choropleth(\n",
    "    data_clean,\n",
    "    locations=\"country\",\n",
    "    locationmode=\"country names\",\n",
    "    color=\"gii_rank\",\n",
    "    hover_name=\"country\",\n",
    "    color_continuous_scale=px.colors.sequential.Plasma,\n",
    "    title=\"Mapa de Calor del GII Rank por País\"\n",
    ")\n",
    "\n",
    "# Mostrar el mapa\n",
    "fig.show()"
   ]
  },
  {
   "cell_type": "code",
   "execution_count": 13,
   "metadata": {},
   "outputs": [
    {
     "data": {
      "image/png": "[encoded data removed]",
      "text/plain": [
       "<Figure size 1200x600 with 1 Axes>"
      ]
     },
     "metadata": {},
     "output_type": "display_data"
    }
   ],
   "source": [
    "# Calcular la media del Índice de Inequidad de Género por grupos de desarrollo humano\n",
    "hdp_groups_stats = data_clean.groupby('hdp_groups')['gii_2021'].mean().reset_index()\n",
    "\n",
    "# Crear un gráfico de barras para comparar la inequidad de género por grupos de desarrollo humano\n",
    "plt.figure(figsize=(12, 6))\n",
    "sns.barplot(x='hdp_groups', y='gii_2021', data=hdp_groups_stats, palette='viridis', hue='hdp_groups', dodge=False)\n",
    "plt.title('Media del Índice de Inequidad de Género por Grupos de Desarrollo Humano')\n",
    "plt.xlabel('Grupos de Desarrollo Humano')\n",
    "plt.ylabel('Media del Índice de Inequidad de Género')\n",
    "plt.legend([],[], frameon=False)  # Ocultar la leyenda\n",
    "plt.show()"
   ]
  },
  {
   "cell_type": "code",
   "execution_count": 14,
   "metadata": {},
   "outputs": [
    {
     "data": {
      "image/png": "[encoded data removed]",
      "text/plain": [
       "<Figure size 1200x600 with 1 Axes>"
      ]
     },
     "metadata": {},
     "output_type": "display_data"
    }
   ],
   "source": [
    "# Calcular la media del Índice de Inequidad de Género por región de desarrollo según el PNUD\n",
    "undp_dev_regions_summary = data_clean.groupby('undp_dev_regions')['gii_2021'].mean().reset_index()\n",
    "\n",
    "# Crear un gráfico de barras para comparar la inequidad de género por región de desarrollo según el PNUD\n",
    "plt.figure(figsize=(12, 6))\n",
    "sns.barplot(x='undp_dev_regions', y='gii_2021', data=undp_dev_regions_summary, palette='viridis', hue='undp_dev_regions', dodge=False)\n",
    "plt.title('Media del Índice de Inequidad de Género por Región de Desarrollo según el PNUD')\n",
    "plt.xlabel('Región de Desarrollo según el PNUD')\n",
    "plt.ylabel('Media del Índice de Inequidad de Género')\n",
    "plt.legend([],[], frameon=False)  # Ocultar la leyenda\n",
    "plt.show()"
   ]
  },
  {
   "cell_type": "code",
   "execution_count": 15,
   "metadata": {},
   "outputs": [
    {
     "data": {
      "image/png": "[encoded data removed]",
      "text/plain": [
       "<Figure size 1400x700 with 1 Axes>"
      ]
     },
     "metadata": {},
     "output_type": "display_data"
    }
   ],
   "source": [
    "# Crear un DataFrame con los años y los valores medios del índice de inequidad de género\n",
    "years = [f'gii_{year}' for year in range(1990, 2022)]\n",
    "gii_over_time = data_clean[years].mean().reset_index()\n",
    "gii_over_time.columns = ['Year', 'Mean_GII']\n",
    "gii_over_time['Year'] = gii_over_time['Year'].apply(lambda x: int(x.split('_')[1]))\n",
    "\n",
    "# Crear el gráfico temporal\n",
    "plt.figure(figsize=(14, 7))\n",
    "sns.lineplot(data=gii_over_time, x='Year', y='Mean_GII', marker='o')\n",
    "plt.title('Evolución del Índice de Inequidad de Género (1990-2021)')\n",
    "plt.xlabel('Año')\n",
    "plt.ylabel('Índice de Inequidad de Género (Media)')\n",
    "plt.grid(True)\n",
    "plt.show()"
   ]
  }
 ],
 "metadata": {
  "kernelspec": {
   "display_name": "base",
   "language": "python",
   "name": "python3"
  },
  "language_info": {
   "codemirror_mode": {
    "name": "ipython",
    "version": 3
   },
   "file_extension": ".py",
   "mimetype": "text/x-python",
   "name": "python",
   "nbconvert_exporter": "python",
   "pygments_lexer": "ipython3",
   "version": "3.12.4"
  }
 },
 "nbformat": 4,
 "nbformat_minor": 2
}
